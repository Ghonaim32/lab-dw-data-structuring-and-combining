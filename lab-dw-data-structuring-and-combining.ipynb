{
 "cells": [
  {
   "cell_type": "markdown",
   "id": "25d7736c-ba17-4aff-b6bb-66eba20fbf4e",
   "metadata": {
    "id": "25d7736c-ba17-4aff-b6bb-66eba20fbf4e"
   },
   "source": [
    "# Lab | Data Structuring and Combining Data"
   ]
  },
  {
   "cell_type": "markdown",
   "id": "a2cdfc70-44c8-478c-81e7-2bc43fdf4986",
   "metadata": {
    "id": "a2cdfc70-44c8-478c-81e7-2bc43fdf4986"
   },
   "source": [
    "## Challenge 1: Combining & Cleaning Data\n",
    "\n",
    "In this challenge, we will be working with the customer data from an insurance company, as we did in the two previous labs. The data can be found here:\n",
    "- https://raw.githubusercontent.com/data-bootcamp-v4/data/main/file1.csv\n",
    "\n",
    "But this time, we got new data, which can be found in the following 2 CSV files located at the links below.\n",
    "\n",
    "- https://raw.githubusercontent.com/data-bootcamp-v4/data/main/file2.csv\n",
    "- https://raw.githubusercontent.com/data-bootcamp-v4/data/main/file3.csv\n",
    "\n",
    "Note that you'll need to clean and format the new data.\n",
    "\n",
    "Observation:\n",
    "- One option is to first combine the three datasets and then apply the cleaning function to the new combined dataset\n",
    "- Another option would be to read the clean file you saved in the previous lab, and just clean the two new files and concatenate the three clean datasets"
   ]
  },
  {
   "cell_type": "code",
   "execution_count": 111,
   "id": "597e8c6a",
   "metadata": {},
   "outputs": [],
   "source": [
    "import pandas as pd\n",
    "import matplotlib.pyplot as plt\n",
    "import numpy as np"
   ]
  },
  {
   "cell_type": "code",
   "execution_count": 112,
   "id": "492d06e3-92c7-4105-ac72-536db98d3244",
   "metadata": {
    "id": "492d06e3-92c7-4105-ac72-536db98d3244"
   },
   "outputs": [],
   "source": [
    "url1 = \"https://raw.githubusercontent.com/data-bootcamp-v4/data/main/file1.csv\"\n",
    "df = pd.read_csv(url1)\n",
    "\n"
   ]
  },
  {
   "cell_type": "code",
   "execution_count": 113,
   "id": "8194078a",
   "metadata": {},
   "outputs": [],
   "source": [
    "url2 = \"https://raw.githubusercontent.com/data-bootcamp-v4/data/main/file2.csv\"\n",
    "df2 = pd.read_csv(url2)\n",
    "\n",
    "url3 = \"https://raw.githubusercontent.com/data-bootcamp-v4/data/main/file3.csv\"\n",
    "df3 = pd.read_csv(url3)"
   ]
  },
  {
   "cell_type": "code",
   "execution_count": 114,
   "id": "ae03cbe0",
   "metadata": {},
   "outputs": [
    {
     "data": {
      "application/vnd.microsoft.datawrangler.viewer.v0+json": {
       "columns": [
        {
         "name": "index",
         "rawType": "int64",
         "type": "integer"
        },
        {
         "name": "customer",
         "rawType": "object",
         "type": "string"
        },
        {
         "name": "customer_lifetime_value",
         "rawType": "object",
         "type": "unknown"
        },
        {
         "name": "education",
         "rawType": "object",
         "type": "string"
        },
        {
         "name": "gender",
         "rawType": "object",
         "type": "unknown"
        },
        {
         "name": "income",
         "rawType": "float64",
         "type": "float"
        },
        {
         "name": "monthly_premium_auto",
         "rawType": "float64",
         "type": "float"
        },
        {
         "name": "number_of_open_complaints",
         "rawType": "object",
         "type": "string"
        },
        {
         "name": "policy_type",
         "rawType": "object",
         "type": "string"
        },
        {
         "name": "st",
         "rawType": "object",
         "type": "string"
        },
        {
         "name": "total_claim_amount",
         "rawType": "float64",
         "type": "float"
        },
        {
         "name": "vehicle_class",
         "rawType": "object",
         "type": "string"
        }
       ],
       "ref": "859e1f1b-4238-46da-88bb-c53d574cbf32",
       "rows": [
        [
         "0",
         "RB50392",
         null,
         "Master",
         null,
         "0.0",
         "1000.0",
         "1/0/00",
         "Personal Auto",
         "Washington",
         "2.704934",
         "Four-Door Car"
        ],
        [
         "1",
         "QZ44356",
         "697953.59%",
         "Bachelor",
         "F",
         "0.0",
         "94.0",
         "1/0/00",
         "Personal Auto",
         "Arizona",
         "1131.464935",
         "Four-Door Car"
        ],
        [
         "2",
         "AI49188",
         "1288743.17%",
         "Bachelor",
         "F",
         "48767.0",
         "108.0",
         "1/0/00",
         "Personal Auto",
         "Nevada",
         "566.472247",
         "Two-Door Car"
        ],
        [
         "3",
         "WW63253",
         "764586.18%",
         "Bachelor",
         "M",
         "0.0",
         "106.0",
         "1/0/00",
         "Corporate Auto",
         "California",
         "529.881344",
         "SUV"
        ],
        [
         "4",
         "GA49547",
         "536307.65%",
         "High School or Below",
         "M",
         "36357.0",
         "68.0",
         "1/0/00",
         "Personal Auto",
         "Washington",
         "17.269323",
         "Four-Door Car"
        ]
       ],
       "shape": {
        "columns": 11,
        "rows": 5
       }
      },
      "text/html": [
       "<div>\n",
       "<style scoped>\n",
       "    .dataframe tbody tr th:only-of-type {\n",
       "        vertical-align: middle;\n",
       "    }\n",
       "\n",
       "    .dataframe tbody tr th {\n",
       "        vertical-align: top;\n",
       "    }\n",
       "\n",
       "    .dataframe thead th {\n",
       "        text-align: right;\n",
       "    }\n",
       "</style>\n",
       "<table border=\"1\" class=\"dataframe\">\n",
       "  <thead>\n",
       "    <tr style=\"text-align: right;\">\n",
       "      <th></th>\n",
       "      <th>customer</th>\n",
       "      <th>customer_lifetime_value</th>\n",
       "      <th>education</th>\n",
       "      <th>gender</th>\n",
       "      <th>income</th>\n",
       "      <th>monthly_premium_auto</th>\n",
       "      <th>number_of_open_complaints</th>\n",
       "      <th>policy_type</th>\n",
       "      <th>st</th>\n",
       "      <th>total_claim_amount</th>\n",
       "      <th>vehicle_class</th>\n",
       "    </tr>\n",
       "  </thead>\n",
       "  <tbody>\n",
       "    <tr>\n",
       "      <th>0</th>\n",
       "      <td>RB50392</td>\n",
       "      <td>NaN</td>\n",
       "      <td>Master</td>\n",
       "      <td>NaN</td>\n",
       "      <td>0.0</td>\n",
       "      <td>1000.0</td>\n",
       "      <td>1/0/00</td>\n",
       "      <td>Personal Auto</td>\n",
       "      <td>Washington</td>\n",
       "      <td>2.704934</td>\n",
       "      <td>Four-Door Car</td>\n",
       "    </tr>\n",
       "    <tr>\n",
       "      <th>1</th>\n",
       "      <td>QZ44356</td>\n",
       "      <td>697953.59%</td>\n",
       "      <td>Bachelor</td>\n",
       "      <td>F</td>\n",
       "      <td>0.0</td>\n",
       "      <td>94.0</td>\n",
       "      <td>1/0/00</td>\n",
       "      <td>Personal Auto</td>\n",
       "      <td>Arizona</td>\n",
       "      <td>1131.464935</td>\n",
       "      <td>Four-Door Car</td>\n",
       "    </tr>\n",
       "    <tr>\n",
       "      <th>2</th>\n",
       "      <td>AI49188</td>\n",
       "      <td>1288743.17%</td>\n",
       "      <td>Bachelor</td>\n",
       "      <td>F</td>\n",
       "      <td>48767.0</td>\n",
       "      <td>108.0</td>\n",
       "      <td>1/0/00</td>\n",
       "      <td>Personal Auto</td>\n",
       "      <td>Nevada</td>\n",
       "      <td>566.472247</td>\n",
       "      <td>Two-Door Car</td>\n",
       "    </tr>\n",
       "    <tr>\n",
       "      <th>3</th>\n",
       "      <td>WW63253</td>\n",
       "      <td>764586.18%</td>\n",
       "      <td>Bachelor</td>\n",
       "      <td>M</td>\n",
       "      <td>0.0</td>\n",
       "      <td>106.0</td>\n",
       "      <td>1/0/00</td>\n",
       "      <td>Corporate Auto</td>\n",
       "      <td>California</td>\n",
       "      <td>529.881344</td>\n",
       "      <td>SUV</td>\n",
       "    </tr>\n",
       "    <tr>\n",
       "      <th>4</th>\n",
       "      <td>GA49547</td>\n",
       "      <td>536307.65%</td>\n",
       "      <td>High School or Below</td>\n",
       "      <td>M</td>\n",
       "      <td>36357.0</td>\n",
       "      <td>68.0</td>\n",
       "      <td>1/0/00</td>\n",
       "      <td>Personal Auto</td>\n",
       "      <td>Washington</td>\n",
       "      <td>17.269323</td>\n",
       "      <td>Four-Door Car</td>\n",
       "    </tr>\n",
       "  </tbody>\n",
       "</table>\n",
       "</div>"
      ],
      "text/plain": [
       "  customer customer_lifetime_value             education gender   income  \\\n",
       "0  RB50392                     NaN                Master    NaN      0.0   \n",
       "1  QZ44356              697953.59%              Bachelor      F      0.0   \n",
       "2  AI49188             1288743.17%              Bachelor      F  48767.0   \n",
       "3  WW63253              764586.18%              Bachelor      M      0.0   \n",
       "4  GA49547              536307.65%  High School or Below      M  36357.0   \n",
       "\n",
       "   monthly_premium_auto number_of_open_complaints     policy_type          st  \\\n",
       "0                1000.0                    1/0/00   Personal Auto  Washington   \n",
       "1                  94.0                    1/0/00   Personal Auto     Arizona   \n",
       "2                 108.0                    1/0/00   Personal Auto      Nevada   \n",
       "3                 106.0                    1/0/00  Corporate Auto  California   \n",
       "4                  68.0                    1/0/00   Personal Auto  Washington   \n",
       "\n",
       "   total_claim_amount  vehicle_class  \n",
       "0            2.704934  Four-Door Car  \n",
       "1         1131.464935  Four-Door Car  \n",
       "2          566.472247   Two-Door Car  \n",
       "3          529.881344            SUV  \n",
       "4           17.269323  Four-Door Car  "
      ]
     },
     "metadata": {},
     "output_type": "display_data"
    },
    {
     "data": {
      "application/vnd.microsoft.datawrangler.viewer.v0+json": {
       "columns": [
        {
         "name": "index",
         "rawType": "int64",
         "type": "integer"
        },
        {
         "name": "customer",
         "rawType": "object",
         "type": "string"
        },
        {
         "name": "customer_lifetime_value",
         "rawType": "object",
         "type": "string"
        },
        {
         "name": "education",
         "rawType": "object",
         "type": "string"
        },
        {
         "name": "gender",
         "rawType": "object",
         "type": "string"
        },
        {
         "name": "income",
         "rawType": "int64",
         "type": "integer"
        },
        {
         "name": "monthly_premium_auto",
         "rawType": "int64",
         "type": "integer"
        },
        {
         "name": "number_of_open_complaints",
         "rawType": "object",
         "type": "string"
        },
        {
         "name": "policy_type",
         "rawType": "object",
         "type": "string"
        },
        {
         "name": "st",
         "rawType": "object",
         "type": "string"
        },
        {
         "name": "total_claim_amount",
         "rawType": "float64",
         "type": "float"
        },
        {
         "name": "vehicle_class",
         "rawType": "object",
         "type": "string"
        }
       ],
       "ref": "e3e97656-4f4c-4cc0-b082-757e983e701c",
       "rows": [
        [
         "0",
         "GS98873",
         "323912.47%",
         "Bachelor",
         "F",
         "16061",
         "88",
         "1/0/00",
         "Personal Auto",
         "Arizona",
         "633.6",
         "Four-Door Car"
        ],
        [
         "1",
         "CW49887",
         "462680.11%",
         "Master",
         "F",
         "79487",
         "114",
         "1/0/00",
         "Special Auto",
         "California",
         "547.2",
         "SUV"
        ],
        [
         "2",
         "MY31220",
         "899704.02%",
         "College",
         "F",
         "54230",
         "112",
         "1/0/00",
         "Personal Auto",
         "California",
         "537.6",
         "Two-Door Car"
        ],
        [
         "3",
         "UH35128",
         "2580706.30%",
         "College",
         "F",
         "71210",
         "214",
         "1/1/00",
         "Personal Auto",
         "Oregon",
         "1027.2",
         "Luxury Car"
        ],
        [
         "4",
         "WH52799",
         "380812.21%",
         "College",
         "F",
         "94903",
         "94",
         "1/0/00",
         "Corporate Auto",
         "Arizona",
         "451.2",
         "Two-Door Car"
        ]
       ],
       "shape": {
        "columns": 11,
        "rows": 5
       }
      },
      "text/html": [
       "<div>\n",
       "<style scoped>\n",
       "    .dataframe tbody tr th:only-of-type {\n",
       "        vertical-align: middle;\n",
       "    }\n",
       "\n",
       "    .dataframe tbody tr th {\n",
       "        vertical-align: top;\n",
       "    }\n",
       "\n",
       "    .dataframe thead th {\n",
       "        text-align: right;\n",
       "    }\n",
       "</style>\n",
       "<table border=\"1\" class=\"dataframe\">\n",
       "  <thead>\n",
       "    <tr style=\"text-align: right;\">\n",
       "      <th></th>\n",
       "      <th>customer</th>\n",
       "      <th>customer_lifetime_value</th>\n",
       "      <th>education</th>\n",
       "      <th>gender</th>\n",
       "      <th>income</th>\n",
       "      <th>monthly_premium_auto</th>\n",
       "      <th>number_of_open_complaints</th>\n",
       "      <th>policy_type</th>\n",
       "      <th>st</th>\n",
       "      <th>total_claim_amount</th>\n",
       "      <th>vehicle_class</th>\n",
       "    </tr>\n",
       "  </thead>\n",
       "  <tbody>\n",
       "    <tr>\n",
       "      <th>0</th>\n",
       "      <td>GS98873</td>\n",
       "      <td>323912.47%</td>\n",
       "      <td>Bachelor</td>\n",
       "      <td>F</td>\n",
       "      <td>16061</td>\n",
       "      <td>88</td>\n",
       "      <td>1/0/00</td>\n",
       "      <td>Personal Auto</td>\n",
       "      <td>Arizona</td>\n",
       "      <td>633.6</td>\n",
       "      <td>Four-Door Car</td>\n",
       "    </tr>\n",
       "    <tr>\n",
       "      <th>1</th>\n",
       "      <td>CW49887</td>\n",
       "      <td>462680.11%</td>\n",
       "      <td>Master</td>\n",
       "      <td>F</td>\n",
       "      <td>79487</td>\n",
       "      <td>114</td>\n",
       "      <td>1/0/00</td>\n",
       "      <td>Special Auto</td>\n",
       "      <td>California</td>\n",
       "      <td>547.2</td>\n",
       "      <td>SUV</td>\n",
       "    </tr>\n",
       "    <tr>\n",
       "      <th>2</th>\n",
       "      <td>MY31220</td>\n",
       "      <td>899704.02%</td>\n",
       "      <td>College</td>\n",
       "      <td>F</td>\n",
       "      <td>54230</td>\n",
       "      <td>112</td>\n",
       "      <td>1/0/00</td>\n",
       "      <td>Personal Auto</td>\n",
       "      <td>California</td>\n",
       "      <td>537.6</td>\n",
       "      <td>Two-Door Car</td>\n",
       "    </tr>\n",
       "    <tr>\n",
       "      <th>3</th>\n",
       "      <td>UH35128</td>\n",
       "      <td>2580706.30%</td>\n",
       "      <td>College</td>\n",
       "      <td>F</td>\n",
       "      <td>71210</td>\n",
       "      <td>214</td>\n",
       "      <td>1/1/00</td>\n",
       "      <td>Personal Auto</td>\n",
       "      <td>Oregon</td>\n",
       "      <td>1027.2</td>\n",
       "      <td>Luxury Car</td>\n",
       "    </tr>\n",
       "    <tr>\n",
       "      <th>4</th>\n",
       "      <td>WH52799</td>\n",
       "      <td>380812.21%</td>\n",
       "      <td>College</td>\n",
       "      <td>F</td>\n",
       "      <td>94903</td>\n",
       "      <td>94</td>\n",
       "      <td>1/0/00</td>\n",
       "      <td>Corporate Auto</td>\n",
       "      <td>Arizona</td>\n",
       "      <td>451.2</td>\n",
       "      <td>Two-Door Car</td>\n",
       "    </tr>\n",
       "  </tbody>\n",
       "</table>\n",
       "</div>"
      ],
      "text/plain": [
       "  customer customer_lifetime_value education gender  income  \\\n",
       "0  GS98873              323912.47%  Bachelor      F   16061   \n",
       "1  CW49887              462680.11%    Master      F   79487   \n",
       "2  MY31220              899704.02%   College      F   54230   \n",
       "3  UH35128             2580706.30%   College      F   71210   \n",
       "4  WH52799              380812.21%   College      F   94903   \n",
       "\n",
       "   monthly_premium_auto number_of_open_complaints     policy_type          st  \\\n",
       "0                    88                    1/0/00   Personal Auto     Arizona   \n",
       "1                   114                    1/0/00    Special Auto  California   \n",
       "2                   112                    1/0/00   Personal Auto  California   \n",
       "3                   214                    1/1/00   Personal Auto      Oregon   \n",
       "4                    94                    1/0/00  Corporate Auto     Arizona   \n",
       "\n",
       "   total_claim_amount  vehicle_class  \n",
       "0               633.6  Four-Door Car  \n",
       "1               547.2            SUV  \n",
       "2               537.6   Two-Door Car  \n",
       "3              1027.2     Luxury Car  \n",
       "4               451.2   Two-Door Car  "
      ]
     },
     "metadata": {},
     "output_type": "display_data"
    },
    {
     "data": {
      "application/vnd.microsoft.datawrangler.viewer.v0+json": {
       "columns": [
        {
         "name": "index",
         "rawType": "int64",
         "type": "integer"
        },
        {
         "name": "customer",
         "rawType": "object",
         "type": "string"
        },
        {
         "name": "customer_lifetime_value",
         "rawType": "float64",
         "type": "float"
        },
        {
         "name": "education",
         "rawType": "object",
         "type": "string"
        },
        {
         "name": "gender",
         "rawType": "object",
         "type": "string"
        },
        {
         "name": "income",
         "rawType": "int64",
         "type": "integer"
        },
        {
         "name": "monthly_premium_auto",
         "rawType": "int64",
         "type": "integer"
        },
        {
         "name": "number_of_open_complaints",
         "rawType": "int64",
         "type": "integer"
        },
        {
         "name": "policy_type",
         "rawType": "object",
         "type": "string"
        },
        {
         "name": "st",
         "rawType": "object",
         "type": "string"
        },
        {
         "name": "total_claim_amount",
         "rawType": "float64",
         "type": "float"
        },
        {
         "name": "vehicle_class",
         "rawType": "object",
         "type": "string"
        }
       ],
       "ref": "890514b4-1677-4970-a3cd-b78a721797fd",
       "rows": [
        [
         "0",
         "SA25987",
         "3479.137523",
         "High School or Below",
         "M",
         "0",
         "104",
         "0",
         "Personal Auto",
         "Washington",
         "499.2",
         "Two-Door Car"
        ],
        [
         "1",
         "TB86706",
         "2502.637401",
         "Master",
         "M",
         "0",
         "66",
         "0",
         "Personal Auto",
         "Arizona",
         "3.468912",
         "Two-Door Car"
        ],
        [
         "2",
         "ZL73902",
         "3265.156348",
         "Bachelor",
         "F",
         "25820",
         "82",
         "0",
         "Personal Auto",
         "Nevada",
         "393.6",
         "Four-Door Car"
        ],
        [
         "3",
         "KX23516",
         "4455.843406",
         "High School or Below",
         "F",
         "0",
         "121",
         "0",
         "Personal Auto",
         "California",
         "699.615192",
         "SUV"
        ],
        [
         "4",
         "FN77294",
         "7704.95848",
         "High School or Below",
         "M",
         "30366",
         "101",
         "2",
         "Personal Auto",
         "California",
         "484.8",
         "SUV"
        ]
       ],
       "shape": {
        "columns": 11,
        "rows": 5
       }
      },
      "text/html": [
       "<div>\n",
       "<style scoped>\n",
       "    .dataframe tbody tr th:only-of-type {\n",
       "        vertical-align: middle;\n",
       "    }\n",
       "\n",
       "    .dataframe tbody tr th {\n",
       "        vertical-align: top;\n",
       "    }\n",
       "\n",
       "    .dataframe thead th {\n",
       "        text-align: right;\n",
       "    }\n",
       "</style>\n",
       "<table border=\"1\" class=\"dataframe\">\n",
       "  <thead>\n",
       "    <tr style=\"text-align: right;\">\n",
       "      <th></th>\n",
       "      <th>customer</th>\n",
       "      <th>customer_lifetime_value</th>\n",
       "      <th>education</th>\n",
       "      <th>gender</th>\n",
       "      <th>income</th>\n",
       "      <th>monthly_premium_auto</th>\n",
       "      <th>number_of_open_complaints</th>\n",
       "      <th>policy_type</th>\n",
       "      <th>st</th>\n",
       "      <th>total_claim_amount</th>\n",
       "      <th>vehicle_class</th>\n",
       "    </tr>\n",
       "  </thead>\n",
       "  <tbody>\n",
       "    <tr>\n",
       "      <th>0</th>\n",
       "      <td>SA25987</td>\n",
       "      <td>3479.137523</td>\n",
       "      <td>High School or Below</td>\n",
       "      <td>M</td>\n",
       "      <td>0</td>\n",
       "      <td>104</td>\n",
       "      <td>0</td>\n",
       "      <td>Personal Auto</td>\n",
       "      <td>Washington</td>\n",
       "      <td>499.200000</td>\n",
       "      <td>Two-Door Car</td>\n",
       "    </tr>\n",
       "    <tr>\n",
       "      <th>1</th>\n",
       "      <td>TB86706</td>\n",
       "      <td>2502.637401</td>\n",
       "      <td>Master</td>\n",
       "      <td>M</td>\n",
       "      <td>0</td>\n",
       "      <td>66</td>\n",
       "      <td>0</td>\n",
       "      <td>Personal Auto</td>\n",
       "      <td>Arizona</td>\n",
       "      <td>3.468912</td>\n",
       "      <td>Two-Door Car</td>\n",
       "    </tr>\n",
       "    <tr>\n",
       "      <th>2</th>\n",
       "      <td>ZL73902</td>\n",
       "      <td>3265.156348</td>\n",
       "      <td>Bachelor</td>\n",
       "      <td>F</td>\n",
       "      <td>25820</td>\n",
       "      <td>82</td>\n",
       "      <td>0</td>\n",
       "      <td>Personal Auto</td>\n",
       "      <td>Nevada</td>\n",
       "      <td>393.600000</td>\n",
       "      <td>Four-Door Car</td>\n",
       "    </tr>\n",
       "    <tr>\n",
       "      <th>3</th>\n",
       "      <td>KX23516</td>\n",
       "      <td>4455.843406</td>\n",
       "      <td>High School or Below</td>\n",
       "      <td>F</td>\n",
       "      <td>0</td>\n",
       "      <td>121</td>\n",
       "      <td>0</td>\n",
       "      <td>Personal Auto</td>\n",
       "      <td>California</td>\n",
       "      <td>699.615192</td>\n",
       "      <td>SUV</td>\n",
       "    </tr>\n",
       "    <tr>\n",
       "      <th>4</th>\n",
       "      <td>FN77294</td>\n",
       "      <td>7704.958480</td>\n",
       "      <td>High School or Below</td>\n",
       "      <td>M</td>\n",
       "      <td>30366</td>\n",
       "      <td>101</td>\n",
       "      <td>2</td>\n",
       "      <td>Personal Auto</td>\n",
       "      <td>California</td>\n",
       "      <td>484.800000</td>\n",
       "      <td>SUV</td>\n",
       "    </tr>\n",
       "  </tbody>\n",
       "</table>\n",
       "</div>"
      ],
      "text/plain": [
       "  customer  customer_lifetime_value             education gender  income  \\\n",
       "0  SA25987              3479.137523  High School or Below      M       0   \n",
       "1  TB86706              2502.637401                Master      M       0   \n",
       "2  ZL73902              3265.156348              Bachelor      F   25820   \n",
       "3  KX23516              4455.843406  High School or Below      F       0   \n",
       "4  FN77294              7704.958480  High School or Below      M   30366   \n",
       "\n",
       "   monthly_premium_auto  number_of_open_complaints    policy_type          st  \\\n",
       "0                   104                          0  Personal Auto  Washington   \n",
       "1                    66                          0  Personal Auto     Arizona   \n",
       "2                    82                          0  Personal Auto      Nevada   \n",
       "3                   121                          0  Personal Auto  California   \n",
       "4                   101                          2  Personal Auto  California   \n",
       "\n",
       "   total_claim_amount  vehicle_class  \n",
       "0          499.200000   Two-Door Car  \n",
       "1            3.468912   Two-Door Car  \n",
       "2          393.600000  Four-Door Car  \n",
       "3          699.615192            SUV  \n",
       "4          484.800000            SUV  "
      ]
     },
     "metadata": {},
     "output_type": "display_data"
    }
   ],
   "source": [
    "\n",
    "\n",
    "df.columns = df.columns.str.lower().str.replace(\" \", \"_\")\n",
    "df2.columns = df2.columns.str.lower().str.replace(\" \", \"_\")\n",
    "df3.columns = df3.columns.str.lower().str.replace(\" \", \"_\")\n",
    "\n",
    "df3.rename(columns={\"state\": \"st\"}, inplace=True)\n",
    "\n",
    "df = df.reindex(sorted(df.columns), axis=1)\n",
    "df2 = df2.reindex(sorted(df2.columns), axis=1)\n",
    "df3 = df3.reindex(sorted(df3.columns), axis=1)\n",
    "\n",
    "display(df.head())\n",
    "display(df2.head())\n",
    "display(df3.head())"
   ]
  },
  {
   "cell_type": "code",
   "execution_count": 115,
   "id": "a298403d",
   "metadata": {},
   "outputs": [
    {
     "data": {
      "application/vnd.microsoft.datawrangler.viewer.v0+json": {
       "columns": [
        {
         "name": "index",
         "rawType": "int64",
         "type": "integer"
        },
        {
         "name": "customer",
         "rawType": "object",
         "type": "unknown"
        },
        {
         "name": "customer_lifetime_value",
         "rawType": "object",
         "type": "unknown"
        },
        {
         "name": "education",
         "rawType": "object",
         "type": "unknown"
        },
        {
         "name": "gender",
         "rawType": "object",
         "type": "unknown"
        },
        {
         "name": "income",
         "rawType": "float64",
         "type": "float"
        },
        {
         "name": "monthly_premium_auto",
         "rawType": "float64",
         "type": "float"
        },
        {
         "name": "number_of_open_complaints",
         "rawType": "object",
         "type": "unknown"
        },
        {
         "name": "policy_type",
         "rawType": "object",
         "type": "unknown"
        },
        {
         "name": "st",
         "rawType": "object",
         "type": "unknown"
        },
        {
         "name": "total_claim_amount",
         "rawType": "float64",
         "type": "float"
        },
        {
         "name": "vehicle_class",
         "rawType": "object",
         "type": "unknown"
        }
       ],
       "ref": "b70adae2-d5a9-4a2e-bb66-ca1b23705e5c",
       "rows": [
        [
         "0",
         "RB50392",
         null,
         "Master",
         null,
         "0.0",
         "1000.0",
         "1/0/00",
         "Personal Auto",
         "Washington",
         "2.704934",
         "Four-Door Car"
        ],
        [
         "1",
         "QZ44356",
         "697953.59%",
         "Bachelor",
         "F",
         "0.0",
         "94.0",
         "1/0/00",
         "Personal Auto",
         "Arizona",
         "1131.464935",
         "Four-Door Car"
        ],
        [
         "2",
         "AI49188",
         "1288743.17%",
         "Bachelor",
         "F",
         "48767.0",
         "108.0",
         "1/0/00",
         "Personal Auto",
         "Nevada",
         "566.472247",
         "Two-Door Car"
        ],
        [
         "3",
         "WW63253",
         "764586.18%",
         "Bachelor",
         "M",
         "0.0",
         "106.0",
         "1/0/00",
         "Corporate Auto",
         "California",
         "529.881344",
         "SUV"
        ],
        [
         "4",
         "GA49547",
         "536307.65%",
         "High School or Below",
         "M",
         "36357.0",
         "68.0",
         "1/0/00",
         "Personal Auto",
         "Washington",
         "17.269323",
         "Four-Door Car"
        ],
        [
         "5",
         "OC83172",
         "825629.78%",
         "Bachelor",
         "F",
         "62902.0",
         "69.0",
         "1/0/00",
         "Personal Auto",
         "Oregon",
         "159.383042",
         "Two-Door Car"
        ],
        [
         "6",
         "XZ87318",
         "538089.86%",
         "College",
         "F",
         "55350.0",
         "67.0",
         "1/0/00",
         "Corporate Auto",
         "Oregon",
         "321.6",
         "Four-Door Car"
        ],
        [
         "7",
         "CF85061",
         "721610.03%",
         "Master",
         "M",
         "0.0",
         "101.0",
         "1/0/00",
         "Corporate Auto",
         "Arizona",
         "363.02968",
         "Four-Door Car"
        ],
        [
         "8",
         "DY87989",
         "2412750.40%",
         "Bachelor",
         "M",
         "14072.0",
         "71.0",
         "1/0/00",
         "Corporate Auto",
         "Oregon",
         "511.2",
         "Four-Door Car"
        ],
        [
         "9",
         "BQ94931",
         "738817.81%",
         "College",
         "F",
         "28812.0",
         "93.0",
         "1/0/00",
         "Special Auto",
         "Oregon",
         "425.527834",
         "Four-Door Car"
        ],
        [
         "10",
         "SX51350",
         "473899.20%",
         "College",
         "M",
         "0.0",
         "67.0",
         "1/0/00",
         "Personal Auto",
         "California",
         "482.4",
         "Four-Door Car"
        ],
        [
         "11",
         "VQ65197",
         "819719.71%",
         "College",
         null,
         "0.0",
         "110.0",
         "1/0/00",
         "Personal Auto",
         "California",
         "528.0",
         "SUV"
        ],
        [
         "12",
         "DP39365",
         "879879.70%",
         "Master",
         null,
         "77026.0",
         "110.0",
         "1/2/00",
         "Corporate Auto",
         "California",
         "472.029737",
         "Four-Door Car"
        ],
        [
         "13",
         "SJ95423",
         "881901.89%",
         "High School or Below",
         null,
         "99845.0",
         "110.0",
         "1/1/00",
         "Corporate Auto",
         "Arizona",
         "528.0",
         "SUV"
        ],
        [
         "14",
         "IL66569",
         "538443.17%",
         "College",
         null,
         "83689.0",
         "70.0",
         "1/2/00",
         "Corporate Auto",
         "California",
         "307.139132",
         "Four-Door Car"
        ],
        [
         "15",
         "BW63560",
         "746313.94%",
         "Bachelor",
         null,
         "24599.0",
         "64.0",
         "1/1/00",
         "Corporate Auto",
         "Oregon",
         "42.920271",
         "Four-Door Car"
        ],
        [
         "16",
         "FV94802",
         "256686.78%",
         "High School or Below",
         null,
         "25049.0",
         "67.0",
         "1/0/00",
         "Personal Auto",
         "Nevada",
         "454.245098",
         "Two-Door Car"
        ],
        [
         "17",
         "OE15005",
         "394524.16%",
         "College",
         null,
         "28855.0",
         "101.0",
         "1/0/00",
         "Personal Auto",
         "Cali",
         "647.442031",
         "SUV"
        ],
        [
         "18",
         "WC83389",
         "571033.31%",
         "College",
         null,
         "51148.0",
         "72.0",
         "1/0/00",
         "Personal Auto",
         "Oregon",
         "308.981664",
         "Four-Door Car"
        ],
        [
         "19",
         "FL50705",
         "816261.71%",
         "High School or Below",
         null,
         "66140.0",
         "101.0",
         "1/0/00",
         "Corporate Auto",
         "California",
         "484.8",
         "Four-Door Car"
        ],
        [
         "20",
         "ZK25313",
         "287205.13%",
         "High School or Below",
         null,
         "57749.0",
         "74.0",
         "1/0/00",
         "Personal Auto",
         "Oregon",
         "355.2",
         "Two-Door Car"
        ],
        [
         "21",
         "QK46697",
         "617710.93%",
         "Bachelors",
         "M",
         "61040.0",
         "79.0",
         "1/1/00",
         "Personal Auto",
         "Washington",
         "20.382876",
         "Two-Door Car"
        ],
        [
         "22",
         "YH23384",
         "2412750.40%",
         "Bachelor",
         null,
         "14072.0",
         "71.0",
         "1/0/00",
         "Personal Auto",
         "Arizona",
         "511.2",
         "Four-Door Car"
        ],
        [
         "23",
         "TZ98966",
         "245019.10%",
         "Bachelor",
         null,
         "0.0",
         "73.0",
         "1/3/00",
         "Corporate Auto",
         "Nevada",
         "554.376763",
         "Four-Door Car"
        ],
        [
         "24",
         "HM55802",
         "239210.79%",
         "Bachelor",
         null,
         "17870.0",
         "61.0",
         "1/0/00",
         "Corporate Auto",
         "California",
         "439.2",
         "Four-Door Car"
        ],
        [
         "25",
         "FS42516",
         "580206.60%",
         "College",
         null,
         "97541.0",
         "72.0",
         "1/0/00",
         "Personal Auto",
         "Oregon",
         "389.185006",
         "Four-Door Car"
        ],
        [
         "26",
         "US89481",
         "394637.21%",
         "Bachelor",
         null,
         "0.0",
         "111.0",
         "1/0/00",
         "Personal Auto",
         "California",
         "799.2",
         "Four-Door Car"
        ],
        [
         "27",
         "HS14476",
         "916206.32%",
         "College",
         "M",
         "29723.0",
         "80.0",
         "1/0/00",
         "Personal Auto",
         "Washington",
         "20.985105",
         "Four-Door Car"
        ],
        [
         "28",
         "GE62437",
         "1290256.01%",
         "College",
         null,
         "86584.0",
         "111.0",
         "1/2/00",
         "Personal Auto",
         "AZ",
         "532.8",
         "Four-Door Car"
        ],
        [
         "29",
         "EJ77678",
         "323536.05%",
         "Master",
         null,
         "75690.0",
         "80.0",
         "1/1/00",
         "Personal Auto",
         "Oregon",
         "384.0",
         "Four-Door Car"
        ],
        [
         "30",
         "SV85652",
         "245458.35%",
         "College",
         null,
         "23158.0",
         "63.0",
         "1/1/00",
         "Personal Auto",
         "Arizona",
         "322.294043",
         "Four-Door Car"
        ],
        [
         "31",
         "UL64533",
         "1897545.61%",
         "High School or Below",
         null,
         "65999.0",
         "237.0",
         "1/0/00",
         "Corporate Auto",
         "Nevada",
         "615.927769",
         "Luxury SUV"
        ],
        [
         "32",
         "PF41800",
         "471532.13%",
         "Bachelor",
         null,
         "0.0",
         "65.0",
         "1/0/00",
         "Personal Auto",
         "California",
         "308.15089",
         "Four-Door Car"
        ],
        [
         "33",
         "HD95276",
         "473787.17%",
         "College",
         "F",
         "0.0",
         "130.0",
         "1/0/00",
         "Personal Auto",
         "Washington",
         "23.820158",
         "SUV"
        ],
        [
         "34",
         "SK67821",
         "493291.63%",
         "Bachelor",
         null,
         "37260.0",
         "62.0",
         "1/0/00",
         "Corporate Auto",
         "Oregon",
         "15.437681",
         "Four-Door Car"
        ],
        [
         "35",
         "YV55495",
         "574422.97%",
         "High School or Below",
         null,
         "68987.0",
         "71.0",
         "1/0/00",
         "Personal Auto",
         "Arizona",
         "204.475147",
         "Four-Door Car"
        ],
        [
         "36",
         "KY38074",
         "1389173.57%",
         "Bachelor",
         null,
         "42305.0",
         "117.0",
         "1/0/00",
         "Personal Auto",
         "California",
         "561.6",
         "Four-Door Car"
        ],
        [
         "37",
         "DM79012",
         "738097.67%",
         "Master",
         null,
         "65706.0",
         "91.0",
         "1/0/00",
         "Personal Auto",
         "Oregon",
         "436.8",
         "Four-Door Car"
        ],
        [
         "38",
         "CM61827",
         "309003.41%",
         "Bachelor",
         null,
         "0.0",
         "90.0",
         "1/0/00",
         "Personal Auto",
         "Oregon",
         "648.0",
         "Two-Door Car"
        ],
        [
         "39",
         "WC35801",
         "252163.31%",
         "High School or Below",
         null,
         "53243.0",
         "66.0",
         "1/2/00",
         "Personal Auto",
         "Arizona",
         "157.397849",
         "Four-Door Car"
        ],
        [
         "40",
         "QG25316",
         "265206.18%",
         "High School or Below",
         null,
         "0.0",
         "70.0",
         "1/1/00",
         "Corporate Auto",
         "Nevada",
         "484.318536",
         "Two-Door Car"
        ],
        [
         "41",
         "MB98372",
         "277104.50%",
         "College",
         null,
         "50071.0",
         "71.0",
         "1/0/00",
         "Corporate Auto",
         "Oregon",
         "18.918935",
         "Two-Door Car"
        ],
        [
         "42",
         "IL19217",
         "393900.64%",
         "Bachelor",
         null,
         "60021.0",
         "99.0",
         "1/0/00",
         "Personal Auto",
         "California",
         "882.871945",
         "Four-Door Car"
        ],
        [
         "43",
         "SR38658",
         "1223187.97%",
         "High School or Below",
         null,
         "43244.0",
         "103.0",
         "1/0/00",
         "Personal Auto",
         "Arizona",
         "494.4",
         "Sports Car"
        ],
        [
         "44",
         "YD87931",
         "495165.61%",
         "Doctor",
         "M",
         "46896.0",
         "35354.0",
         "1/1/00",
         "Personal Auto",
         "Washington",
         "31.707317",
         "Four-Door Car"
        ],
        [
         "45",
         "HG65722",
         "1281910.29%",
         "Doctor",
         null,
         "10105.0",
         "172.0",
         "1/3/00",
         "Personal Auto",
         "Oregon",
         "0.517753",
         "SUV"
        ],
        [
         "46",
         "BU27331",
         "446851.05%",
         "Bachelor",
         null,
         "0.0",
         "73.0",
         "1/3/00",
         "Personal Auto",
         "Arizona",
         "579.165954",
         "Four-Door Car"
        ],
        [
         "47",
         "XM45289",
         "551434.40%",
         "High School or Below",
         null,
         "23218.0",
         "71.0",
         "1/0/00",
         "Personal Auto",
         "Oregon",
         "447.79344",
         "Two-Door Car"
        ],
        [
         "48",
         "KP34198",
         "334387.53%",
         "Bachelor",
         null,
         "0.0",
         "92.0",
         "1/0/00",
         "Corporate Auto",
         "California",
         "529.624084",
         "Four-Door Car"
        ],
        [
         "49",
         "SH90947",
         "229447.89%",
         "High School or Below",
         null,
         "0.0",
         "62.0",
         "1/0/00",
         "Personal Auto",
         "Arizona",
         "313.023175",
         "Four-Door Car"
        ]
       ],
       "shape": {
        "columns": 11,
        "rows": 12074
       }
      },
      "text/html": [
       "<div>\n",
       "<style scoped>\n",
       "    .dataframe tbody tr th:only-of-type {\n",
       "        vertical-align: middle;\n",
       "    }\n",
       "\n",
       "    .dataframe tbody tr th {\n",
       "        vertical-align: top;\n",
       "    }\n",
       "\n",
       "    .dataframe thead th {\n",
       "        text-align: right;\n",
       "    }\n",
       "</style>\n",
       "<table border=\"1\" class=\"dataframe\">\n",
       "  <thead>\n",
       "    <tr style=\"text-align: right;\">\n",
       "      <th></th>\n",
       "      <th>customer</th>\n",
       "      <th>customer_lifetime_value</th>\n",
       "      <th>education</th>\n",
       "      <th>gender</th>\n",
       "      <th>income</th>\n",
       "      <th>monthly_premium_auto</th>\n",
       "      <th>number_of_open_complaints</th>\n",
       "      <th>policy_type</th>\n",
       "      <th>st</th>\n",
       "      <th>total_claim_amount</th>\n",
       "      <th>vehicle_class</th>\n",
       "    </tr>\n",
       "  </thead>\n",
       "  <tbody>\n",
       "    <tr>\n",
       "      <th>0</th>\n",
       "      <td>RB50392</td>\n",
       "      <td>NaN</td>\n",
       "      <td>Master</td>\n",
       "      <td>NaN</td>\n",
       "      <td>0.0</td>\n",
       "      <td>1000.0</td>\n",
       "      <td>1/0/00</td>\n",
       "      <td>Personal Auto</td>\n",
       "      <td>Washington</td>\n",
       "      <td>2.704934</td>\n",
       "      <td>Four-Door Car</td>\n",
       "    </tr>\n",
       "    <tr>\n",
       "      <th>1</th>\n",
       "      <td>QZ44356</td>\n",
       "      <td>697953.59%</td>\n",
       "      <td>Bachelor</td>\n",
       "      <td>F</td>\n",
       "      <td>0.0</td>\n",
       "      <td>94.0</td>\n",
       "      <td>1/0/00</td>\n",
       "      <td>Personal Auto</td>\n",
       "      <td>Arizona</td>\n",
       "      <td>1131.464935</td>\n",
       "      <td>Four-Door Car</td>\n",
       "    </tr>\n",
       "    <tr>\n",
       "      <th>2</th>\n",
       "      <td>AI49188</td>\n",
       "      <td>1288743.17%</td>\n",
       "      <td>Bachelor</td>\n",
       "      <td>F</td>\n",
       "      <td>48767.0</td>\n",
       "      <td>108.0</td>\n",
       "      <td>1/0/00</td>\n",
       "      <td>Personal Auto</td>\n",
       "      <td>Nevada</td>\n",
       "      <td>566.472247</td>\n",
       "      <td>Two-Door Car</td>\n",
       "    </tr>\n",
       "    <tr>\n",
       "      <th>3</th>\n",
       "      <td>WW63253</td>\n",
       "      <td>764586.18%</td>\n",
       "      <td>Bachelor</td>\n",
       "      <td>M</td>\n",
       "      <td>0.0</td>\n",
       "      <td>106.0</td>\n",
       "      <td>1/0/00</td>\n",
       "      <td>Corporate Auto</td>\n",
       "      <td>California</td>\n",
       "      <td>529.881344</td>\n",
       "      <td>SUV</td>\n",
       "    </tr>\n",
       "    <tr>\n",
       "      <th>4</th>\n",
       "      <td>GA49547</td>\n",
       "      <td>536307.65%</td>\n",
       "      <td>High School or Below</td>\n",
       "      <td>M</td>\n",
       "      <td>36357.0</td>\n",
       "      <td>68.0</td>\n",
       "      <td>1/0/00</td>\n",
       "      <td>Personal Auto</td>\n",
       "      <td>Washington</td>\n",
       "      <td>17.269323</td>\n",
       "      <td>Four-Door Car</td>\n",
       "    </tr>\n",
       "    <tr>\n",
       "      <th>...</th>\n",
       "      <td>...</td>\n",
       "      <td>...</td>\n",
       "      <td>...</td>\n",
       "      <td>...</td>\n",
       "      <td>...</td>\n",
       "      <td>...</td>\n",
       "      <td>...</td>\n",
       "      <td>...</td>\n",
       "      <td>...</td>\n",
       "      <td>...</td>\n",
       "      <td>...</td>\n",
       "    </tr>\n",
       "    <tr>\n",
       "      <th>7065</th>\n",
       "      <td>LA72316</td>\n",
       "      <td>23405.98798</td>\n",
       "      <td>Bachelor</td>\n",
       "      <td>M</td>\n",
       "      <td>71941.0</td>\n",
       "      <td>73.0</td>\n",
       "      <td>0</td>\n",
       "      <td>Personal Auto</td>\n",
       "      <td>California</td>\n",
       "      <td>198.234764</td>\n",
       "      <td>Four-Door Car</td>\n",
       "    </tr>\n",
       "    <tr>\n",
       "      <th>7066</th>\n",
       "      <td>PK87824</td>\n",
       "      <td>3096.511217</td>\n",
       "      <td>College</td>\n",
       "      <td>F</td>\n",
       "      <td>21604.0</td>\n",
       "      <td>79.0</td>\n",
       "      <td>0</td>\n",
       "      <td>Corporate Auto</td>\n",
       "      <td>California</td>\n",
       "      <td>379.200000</td>\n",
       "      <td>Four-Door Car</td>\n",
       "    </tr>\n",
       "    <tr>\n",
       "      <th>7067</th>\n",
       "      <td>TD14365</td>\n",
       "      <td>8163.890428</td>\n",
       "      <td>Bachelor</td>\n",
       "      <td>M</td>\n",
       "      <td>0.0</td>\n",
       "      <td>85.0</td>\n",
       "      <td>3</td>\n",
       "      <td>Corporate Auto</td>\n",
       "      <td>California</td>\n",
       "      <td>790.784983</td>\n",
       "      <td>Four-Door Car</td>\n",
       "    </tr>\n",
       "    <tr>\n",
       "      <th>7068</th>\n",
       "      <td>UP19263</td>\n",
       "      <td>7524.442436</td>\n",
       "      <td>College</td>\n",
       "      <td>M</td>\n",
       "      <td>21941.0</td>\n",
       "      <td>96.0</td>\n",
       "      <td>0</td>\n",
       "      <td>Personal Auto</td>\n",
       "      <td>California</td>\n",
       "      <td>691.200000</td>\n",
       "      <td>Four-Door Car</td>\n",
       "    </tr>\n",
       "    <tr>\n",
       "      <th>7069</th>\n",
       "      <td>Y167826</td>\n",
       "      <td>2611.836866</td>\n",
       "      <td>College</td>\n",
       "      <td>M</td>\n",
       "      <td>0.0</td>\n",
       "      <td>77.0</td>\n",
       "      <td>0</td>\n",
       "      <td>Corporate Auto</td>\n",
       "      <td>California</td>\n",
       "      <td>369.600000</td>\n",
       "      <td>Two-Door Car</td>\n",
       "    </tr>\n",
       "  </tbody>\n",
       "</table>\n",
       "<p>12074 rows × 11 columns</p>\n",
       "</div>"
      ],
      "text/plain": [
       "     customer customer_lifetime_value             education gender   income  \\\n",
       "0     RB50392                     NaN                Master    NaN      0.0   \n",
       "1     QZ44356              697953.59%              Bachelor      F      0.0   \n",
       "2     AI49188             1288743.17%              Bachelor      F  48767.0   \n",
       "3     WW63253              764586.18%              Bachelor      M      0.0   \n",
       "4     GA49547              536307.65%  High School or Below      M  36357.0   \n",
       "...       ...                     ...                   ...    ...      ...   \n",
       "7065  LA72316             23405.98798              Bachelor      M  71941.0   \n",
       "7066  PK87824             3096.511217               College      F  21604.0   \n",
       "7067  TD14365             8163.890428              Bachelor      M      0.0   \n",
       "7068  UP19263             7524.442436               College      M  21941.0   \n",
       "7069  Y167826             2611.836866               College      M      0.0   \n",
       "\n",
       "      monthly_premium_auto number_of_open_complaints     policy_type  \\\n",
       "0                   1000.0                    1/0/00   Personal Auto   \n",
       "1                     94.0                    1/0/00   Personal Auto   \n",
       "2                    108.0                    1/0/00   Personal Auto   \n",
       "3                    106.0                    1/0/00  Corporate Auto   \n",
       "4                     68.0                    1/0/00   Personal Auto   \n",
       "...                    ...                       ...             ...   \n",
       "7065                  73.0                         0   Personal Auto   \n",
       "7066                  79.0                         0  Corporate Auto   \n",
       "7067                  85.0                         3  Corporate Auto   \n",
       "7068                  96.0                         0   Personal Auto   \n",
       "7069                  77.0                         0  Corporate Auto   \n",
       "\n",
       "              st  total_claim_amount  vehicle_class  \n",
       "0     Washington            2.704934  Four-Door Car  \n",
       "1        Arizona         1131.464935  Four-Door Car  \n",
       "2         Nevada          566.472247   Two-Door Car  \n",
       "3     California          529.881344            SUV  \n",
       "4     Washington           17.269323  Four-Door Car  \n",
       "...          ...                 ...            ...  \n",
       "7065  California          198.234764  Four-Door Car  \n",
       "7066  California          379.200000  Four-Door Car  \n",
       "7067  California          790.784983  Four-Door Car  \n",
       "7068  California          691.200000  Four-Door Car  \n",
       "7069  California          369.600000   Two-Door Car  \n",
       "\n",
       "[12074 rows x 11 columns]"
      ]
     },
     "execution_count": 115,
     "metadata": {},
     "output_type": "execute_result"
    }
   ],
   "source": [
    "df_concat = pd.concat([df, df2, df3], axis=0)\n",
    "\n",
    "df_concat"
   ]
  },
  {
   "cell_type": "code",
   "execution_count": null,
   "id": "f91c14ab",
   "metadata": {},
   "outputs": [],
   "source": []
  },
  {
   "cell_type": "code",
   "execution_count": 116,
   "id": "ec7c0cef",
   "metadata": {},
   "outputs": [
    {
     "data": {
      "application/vnd.microsoft.datawrangler.viewer.v0+json": {
       "columns": [
        {
         "name": "index",
         "rawType": "object",
         "type": "string"
        },
        {
         "name": "0",
         "rawType": "object",
         "type": "unknown"
        }
       ],
       "ref": "5d62942b-fddc-4d9b-869d-3c6c5f0ea139",
       "rows": [
        [
         "customer",
         "object"
        ],
        [
         "customer_lifetime_value",
         "float64"
        ],
        [
         "education",
         "object"
        ],
        [
         "gender",
         "object"
        ],
        [
         "income",
         "float64"
        ],
        [
         "monthly_premium_auto",
         "float64"
        ],
        [
         "number_of_open_complaints",
         "object"
        ],
        [
         "policy_type",
         "object"
        ],
        [
         "st",
         "object"
        ],
        [
         "total_claim_amount",
         "float64"
        ],
        [
         "vehicle_class",
         "object"
        ]
       ],
       "shape": {
        "columns": 1,
        "rows": 11
       }
      },
      "text/plain": [
       "customer                      object\n",
       "customer_lifetime_value      float64\n",
       "education                     object\n",
       "gender                        object\n",
       "income                       float64\n",
       "monthly_premium_auto         float64\n",
       "number_of_open_complaints     object\n",
       "policy_type                   object\n",
       "st                            object\n",
       "total_claim_amount           float64\n",
       "vehicle_class                 object\n",
       "dtype: object"
      ]
     },
     "execution_count": 116,
     "metadata": {},
     "output_type": "execute_result"
    }
   ],
   "source": [
    "df_concat[\"customer_lifetime_value\"] = df_concat['customer_lifetime_value'].str.replace('%', '').astype(float)\n",
    "df_concat.dtypes\n"
   ]
  },
  {
   "cell_type": "code",
   "execution_count": 117,
   "id": "215d9063",
   "metadata": {},
   "outputs": [
    {
     "name": "stderr",
     "output_type": "stream",
     "text": [
      "/var/folders/wc/048rx86x7bqbzmjn7nr46j_80000gn/T/ipykernel_12191/4275617037.py:5: FutureWarning: A value is trying to be set on a copy of a DataFrame or Series through chained assignment using an inplace method.\n",
      "The behavior will change in pandas 3.0. This inplace method will never work because the intermediate object on which we are setting values always behaves as a copy.\n",
      "\n",
      "For example, when doing 'df[col].method(value, inplace=True)', try using 'df.method({col: value}, inplace=True)' or df[col] = df[col].method(value) instead, to perform the operation inplace on the original object.\n",
      "\n",
      "\n",
      "  df_concat['customer_lifetime_value'].fillna(customer_lifetime_value_mean, inplace=True)\n",
      "/var/folders/wc/048rx86x7bqbzmjn7nr46j_80000gn/T/ipykernel_12191/4275617037.py:8: FutureWarning: A value is trying to be set on a copy of a DataFrame or Series through chained assignment using an inplace method.\n",
      "The behavior will change in pandas 3.0. This inplace method will never work because the intermediate object on which we are setting values always behaves as a copy.\n",
      "\n",
      "For example, when doing 'df[col].method(value, inplace=True)', try using 'df.method({col: value}, inplace=True)' or df[col] = df[col].method(value) instead, to perform the operation inplace on the original object.\n",
      "\n",
      "\n",
      "  df_concat['gender'].fillna(gender_mode, inplace=True)\n"
     ]
    }
   ],
   "source": [
    "df_concat.dropna(axis=0, how='all', inplace=True)\n",
    "df_concat.isna().sum()\n",
    "\n",
    "customer_lifetime_value_mean = df_concat['customer_lifetime_value'].mean()\n",
    "df_concat['customer_lifetime_value'].fillna(customer_lifetime_value_mean, inplace=True)\n",
    "\n",
    "gender_mode = df_concat['gender'].mode()[0]\n",
    "df_concat['gender'].fillna(gender_mode, inplace=True)\n"
   ]
  },
  {
   "cell_type": "code",
   "execution_count": 118,
   "id": "b155d9bb",
   "metadata": {},
   "outputs": [
    {
     "data": {
      "application/vnd.microsoft.datawrangler.viewer.v0+json": {
       "columns": [
        {
         "name": "index",
         "rawType": "object",
         "type": "string"
        },
        {
         "name": "0",
         "rawType": "int64",
         "type": "integer"
        }
       ],
       "ref": "8729ace4-e111-41be-a90b-b6b0fef44256",
       "rows": [
        [
         "customer",
         "0"
        ],
        [
         "customer_lifetime_value",
         "0"
        ],
        [
         "education",
         "0"
        ],
        [
         "gender",
         "0"
        ],
        [
         "income",
         "0"
        ],
        [
         "monthly_premium_auto",
         "0"
        ],
        [
         "number_of_open_complaints",
         "0"
        ],
        [
         "policy_type",
         "0"
        ],
        [
         "st",
         "0"
        ],
        [
         "total_claim_amount",
         "0"
        ],
        [
         "vehicle_class",
         "0"
        ]
       ],
       "shape": {
        "columns": 1,
        "rows": 11
       }
      },
      "text/plain": [
       "customer                     0\n",
       "customer_lifetime_value      0\n",
       "education                    0\n",
       "gender                       0\n",
       "income                       0\n",
       "monthly_premium_auto         0\n",
       "number_of_open_complaints    0\n",
       "policy_type                  0\n",
       "st                           0\n",
       "total_claim_amount           0\n",
       "vehicle_class                0\n",
       "dtype: int64"
      ]
     },
     "execution_count": 118,
     "metadata": {},
     "output_type": "execute_result"
    }
   ],
   "source": [
    "df_concat.isna().sum()"
   ]
  },
  {
   "cell_type": "markdown",
   "id": "31b8a9e7-7db9-4604-991b-ef6771603e57",
   "metadata": {
    "id": "31b8a9e7-7db9-4604-991b-ef6771603e57"
   },
   "source": [
    "# Challenge 2: Structuring Data"
   ]
  },
  {
   "cell_type": "markdown",
   "id": "a877fd6d-7a0c-46d2-9657-f25036e4ca4b",
   "metadata": {
    "id": "a877fd6d-7a0c-46d2-9657-f25036e4ca4b"
   },
   "source": [
    "In this challenge, we will continue to work with customer data from an insurance company, but we will use a dataset with more columns, called marketing_customer_analysis.csv, which can be found at the following link:\n",
    "\n",
    "https://raw.githubusercontent.com/data-bootcamp-v4/data/main/marketing_customer_analysis_clean.csv\n",
    "\n",
    "This dataset contains information such as customer demographics, policy details, vehicle information, and the customer's response to the last marketing campaign. Our goal is to explore and analyze this data by performing data cleaning, formatting, and structuring."
   ]
  },
  {
   "cell_type": "code",
   "execution_count": 119,
   "id": "aa10d9b0-1c27-4d3f-a8e4-db6ab73bfd26",
   "metadata": {
    "id": "aa10d9b0-1c27-4d3f-a8e4-db6ab73bfd26"
   },
   "outputs": [
    {
     "data": {
      "application/vnd.microsoft.datawrangler.viewer.v0+json": {
       "columns": [
        {
         "name": "index",
         "rawType": "int64",
         "type": "integer"
        },
        {
         "name": "unnamed:_0",
         "rawType": "int64",
         "type": "integer"
        },
        {
         "name": "customer",
         "rawType": "object",
         "type": "string"
        },
        {
         "name": "state",
         "rawType": "object",
         "type": "string"
        },
        {
         "name": "customer_lifetime_value",
         "rawType": "float64",
         "type": "float"
        },
        {
         "name": "response",
         "rawType": "object",
         "type": "string"
        },
        {
         "name": "coverage",
         "rawType": "object",
         "type": "string"
        },
        {
         "name": "education",
         "rawType": "object",
         "type": "string"
        },
        {
         "name": "effective_to_date",
         "rawType": "object",
         "type": "string"
        },
        {
         "name": "employmentstatus",
         "rawType": "object",
         "type": "string"
        },
        {
         "name": "gender",
         "rawType": "object",
         "type": "string"
        },
        {
         "name": "income",
         "rawType": "int64",
         "type": "integer"
        },
        {
         "name": "location_code",
         "rawType": "object",
         "type": "string"
        },
        {
         "name": "marital_status",
         "rawType": "object",
         "type": "string"
        },
        {
         "name": "monthly_premium_auto",
         "rawType": "int64",
         "type": "integer"
        },
        {
         "name": "months_since_last_claim",
         "rawType": "float64",
         "type": "float"
        },
        {
         "name": "months_since_policy_inception",
         "rawType": "int64",
         "type": "integer"
        },
        {
         "name": "number_of_open_complaints",
         "rawType": "float64",
         "type": "float"
        },
        {
         "name": "number_of_policies",
         "rawType": "int64",
         "type": "integer"
        },
        {
         "name": "policy_type",
         "rawType": "object",
         "type": "string"
        },
        {
         "name": "policy",
         "rawType": "object",
         "type": "string"
        },
        {
         "name": "renew_offer_type",
         "rawType": "object",
         "type": "string"
        },
        {
         "name": "sales_channel",
         "rawType": "object",
         "type": "string"
        },
        {
         "name": "total_claim_amount",
         "rawType": "float64",
         "type": "float"
        },
        {
         "name": "vehicle_class",
         "rawType": "object",
         "type": "string"
        },
        {
         "name": "vehicle_size",
         "rawType": "object",
         "type": "string"
        },
        {
         "name": "vehicle_type",
         "rawType": "object",
         "type": "string"
        },
        {
         "name": "month",
         "rawType": "int64",
         "type": "integer"
        }
       ],
       "ref": "5adb3a94-3553-4d1e-aff1-5096644446ac",
       "rows": [
        [
         "0",
         "0",
         "DK49336",
         "Arizona",
         "4809.21696",
         "No",
         "Basic",
         "College",
         "2011-02-18",
         "Employed",
         "M",
         "48029",
         "Suburban",
         "Married",
         "61",
         "7.0",
         "52",
         "0.0",
         "9",
         "Corporate Auto",
         "Corporate L3",
         "Offer3",
         "Agent",
         "292.8",
         "Four-Door Car",
         "Medsize",
         "A",
         "2"
        ],
        [
         "1",
         "1",
         "KX64629",
         "California",
         "2228.525238",
         "No",
         "Basic",
         "College",
         "2011-01-18",
         "Unemployed",
         "F",
         "0",
         "Suburban",
         "Single",
         "64",
         "3.0",
         "26",
         "0.0",
         "1",
         "Personal Auto",
         "Personal L3",
         "Offer4",
         "Call Center",
         "744.924331",
         "Four-Door Car",
         "Medsize",
         "A",
         "1"
        ],
        [
         "2",
         "2",
         "LZ68649",
         "Washington",
         "14947.9173",
         "No",
         "Basic",
         "Bachelor",
         "2011-02-10",
         "Employed",
         "M",
         "22139",
         "Suburban",
         "Single",
         "100",
         "34.0",
         "31",
         "0.0",
         "2",
         "Personal Auto",
         "Personal L3",
         "Offer3",
         "Call Center",
         "480.0",
         "SUV",
         "Medsize",
         "A",
         "2"
        ],
        [
         "3",
         "3",
         "XL78013",
         "Oregon",
         "22332.43946",
         "Yes",
         "Extended",
         "College",
         "2011-01-11",
         "Employed",
         "M",
         "49078",
         "Suburban",
         "Single",
         "97",
         "10.0",
         "3",
         "0.0",
         "2",
         "Corporate Auto",
         "Corporate L3",
         "Offer2",
         "Branch",
         "484.013411",
         "Four-Door Car",
         "Medsize",
         "A",
         "1"
        ],
        [
         "4",
         "4",
         "QA50777",
         "Oregon",
         "9025.067525",
         "No",
         "Premium",
         "Bachelor",
         "2011-01-17",
         "Medical Leave",
         "F",
         "23675",
         "Suburban",
         "Married",
         "117",
         "15.149070740488469",
         "31",
         "0.384256105867471",
         "7",
         "Personal Auto",
         "Personal L2",
         "Offer1",
         "Branch",
         "707.925645",
         "Four-Door Car",
         "Medsize",
         "A",
         "1"
        ]
       ],
       "shape": {
        "columns": 27,
        "rows": 5
       }
      },
      "text/html": [
       "<div>\n",
       "<style scoped>\n",
       "    .dataframe tbody tr th:only-of-type {\n",
       "        vertical-align: middle;\n",
       "    }\n",
       "\n",
       "    .dataframe tbody tr th {\n",
       "        vertical-align: top;\n",
       "    }\n",
       "\n",
       "    .dataframe thead th {\n",
       "        text-align: right;\n",
       "    }\n",
       "</style>\n",
       "<table border=\"1\" class=\"dataframe\">\n",
       "  <thead>\n",
       "    <tr style=\"text-align: right;\">\n",
       "      <th></th>\n",
       "      <th>unnamed:_0</th>\n",
       "      <th>customer</th>\n",
       "      <th>state</th>\n",
       "      <th>customer_lifetime_value</th>\n",
       "      <th>response</th>\n",
       "      <th>coverage</th>\n",
       "      <th>education</th>\n",
       "      <th>effective_to_date</th>\n",
       "      <th>employmentstatus</th>\n",
       "      <th>gender</th>\n",
       "      <th>...</th>\n",
       "      <th>number_of_policies</th>\n",
       "      <th>policy_type</th>\n",
       "      <th>policy</th>\n",
       "      <th>renew_offer_type</th>\n",
       "      <th>sales_channel</th>\n",
       "      <th>total_claim_amount</th>\n",
       "      <th>vehicle_class</th>\n",
       "      <th>vehicle_size</th>\n",
       "      <th>vehicle_type</th>\n",
       "      <th>month</th>\n",
       "    </tr>\n",
       "  </thead>\n",
       "  <tbody>\n",
       "    <tr>\n",
       "      <th>0</th>\n",
       "      <td>0</td>\n",
       "      <td>DK49336</td>\n",
       "      <td>Arizona</td>\n",
       "      <td>4809.216960</td>\n",
       "      <td>No</td>\n",
       "      <td>Basic</td>\n",
       "      <td>College</td>\n",
       "      <td>2011-02-18</td>\n",
       "      <td>Employed</td>\n",
       "      <td>M</td>\n",
       "      <td>...</td>\n",
       "      <td>9</td>\n",
       "      <td>Corporate Auto</td>\n",
       "      <td>Corporate L3</td>\n",
       "      <td>Offer3</td>\n",
       "      <td>Agent</td>\n",
       "      <td>292.800000</td>\n",
       "      <td>Four-Door Car</td>\n",
       "      <td>Medsize</td>\n",
       "      <td>A</td>\n",
       "      <td>2</td>\n",
       "    </tr>\n",
       "    <tr>\n",
       "      <th>1</th>\n",
       "      <td>1</td>\n",
       "      <td>KX64629</td>\n",
       "      <td>California</td>\n",
       "      <td>2228.525238</td>\n",
       "      <td>No</td>\n",
       "      <td>Basic</td>\n",
       "      <td>College</td>\n",
       "      <td>2011-01-18</td>\n",
       "      <td>Unemployed</td>\n",
       "      <td>F</td>\n",
       "      <td>...</td>\n",
       "      <td>1</td>\n",
       "      <td>Personal Auto</td>\n",
       "      <td>Personal L3</td>\n",
       "      <td>Offer4</td>\n",
       "      <td>Call Center</td>\n",
       "      <td>744.924331</td>\n",
       "      <td>Four-Door Car</td>\n",
       "      <td>Medsize</td>\n",
       "      <td>A</td>\n",
       "      <td>1</td>\n",
       "    </tr>\n",
       "    <tr>\n",
       "      <th>2</th>\n",
       "      <td>2</td>\n",
       "      <td>LZ68649</td>\n",
       "      <td>Washington</td>\n",
       "      <td>14947.917300</td>\n",
       "      <td>No</td>\n",
       "      <td>Basic</td>\n",
       "      <td>Bachelor</td>\n",
       "      <td>2011-02-10</td>\n",
       "      <td>Employed</td>\n",
       "      <td>M</td>\n",
       "      <td>...</td>\n",
       "      <td>2</td>\n",
       "      <td>Personal Auto</td>\n",
       "      <td>Personal L3</td>\n",
       "      <td>Offer3</td>\n",
       "      <td>Call Center</td>\n",
       "      <td>480.000000</td>\n",
       "      <td>SUV</td>\n",
       "      <td>Medsize</td>\n",
       "      <td>A</td>\n",
       "      <td>2</td>\n",
       "    </tr>\n",
       "    <tr>\n",
       "      <th>3</th>\n",
       "      <td>3</td>\n",
       "      <td>XL78013</td>\n",
       "      <td>Oregon</td>\n",
       "      <td>22332.439460</td>\n",
       "      <td>Yes</td>\n",
       "      <td>Extended</td>\n",
       "      <td>College</td>\n",
       "      <td>2011-01-11</td>\n",
       "      <td>Employed</td>\n",
       "      <td>M</td>\n",
       "      <td>...</td>\n",
       "      <td>2</td>\n",
       "      <td>Corporate Auto</td>\n",
       "      <td>Corporate L3</td>\n",
       "      <td>Offer2</td>\n",
       "      <td>Branch</td>\n",
       "      <td>484.013411</td>\n",
       "      <td>Four-Door Car</td>\n",
       "      <td>Medsize</td>\n",
       "      <td>A</td>\n",
       "      <td>1</td>\n",
       "    </tr>\n",
       "    <tr>\n",
       "      <th>4</th>\n",
       "      <td>4</td>\n",
       "      <td>QA50777</td>\n",
       "      <td>Oregon</td>\n",
       "      <td>9025.067525</td>\n",
       "      <td>No</td>\n",
       "      <td>Premium</td>\n",
       "      <td>Bachelor</td>\n",
       "      <td>2011-01-17</td>\n",
       "      <td>Medical Leave</td>\n",
       "      <td>F</td>\n",
       "      <td>...</td>\n",
       "      <td>7</td>\n",
       "      <td>Personal Auto</td>\n",
       "      <td>Personal L2</td>\n",
       "      <td>Offer1</td>\n",
       "      <td>Branch</td>\n",
       "      <td>707.925645</td>\n",
       "      <td>Four-Door Car</td>\n",
       "      <td>Medsize</td>\n",
       "      <td>A</td>\n",
       "      <td>1</td>\n",
       "    </tr>\n",
       "  </tbody>\n",
       "</table>\n",
       "<p>5 rows × 27 columns</p>\n",
       "</div>"
      ],
      "text/plain": [
       "   unnamed:_0 customer       state  customer_lifetime_value response  \\\n",
       "0           0  DK49336     Arizona              4809.216960       No   \n",
       "1           1  KX64629  California              2228.525238       No   \n",
       "2           2  LZ68649  Washington             14947.917300       No   \n",
       "3           3  XL78013      Oregon             22332.439460      Yes   \n",
       "4           4  QA50777      Oregon              9025.067525       No   \n",
       "\n",
       "   coverage education effective_to_date employmentstatus gender  ...  \\\n",
       "0     Basic   College        2011-02-18         Employed      M  ...   \n",
       "1     Basic   College        2011-01-18       Unemployed      F  ...   \n",
       "2     Basic  Bachelor        2011-02-10         Employed      M  ...   \n",
       "3  Extended   College        2011-01-11         Employed      M  ...   \n",
       "4   Premium  Bachelor        2011-01-17    Medical Leave      F  ...   \n",
       "\n",
       "   number_of_policies     policy_type        policy  renew_offer_type  \\\n",
       "0                   9  Corporate Auto  Corporate L3            Offer3   \n",
       "1                   1   Personal Auto   Personal L3            Offer4   \n",
       "2                   2   Personal Auto   Personal L3            Offer3   \n",
       "3                   2  Corporate Auto  Corporate L3            Offer2   \n",
       "4                   7   Personal Auto   Personal L2            Offer1   \n",
       "\n",
       "   sales_channel  total_claim_amount  vehicle_class  vehicle_size  \\\n",
       "0          Agent          292.800000  Four-Door Car       Medsize   \n",
       "1    Call Center          744.924331  Four-Door Car       Medsize   \n",
       "2    Call Center          480.000000            SUV       Medsize   \n",
       "3         Branch          484.013411  Four-Door Car       Medsize   \n",
       "4         Branch          707.925645  Four-Door Car       Medsize   \n",
       "\n",
       "  vehicle_type month  \n",
       "0            A     2  \n",
       "1            A     1  \n",
       "2            A     2  \n",
       "3            A     1  \n",
       "4            A     1  \n",
       "\n",
       "[5 rows x 27 columns]"
      ]
     },
     "execution_count": 119,
     "metadata": {},
     "output_type": "execute_result"
    }
   ],
   "source": [
    "url4 = \"https://raw.githubusercontent.com/data-bootcamp-v4/data/main/marketing_customer_analysis_clean.csv\"\n",
    "df4 = pd.read_csv(url4)\n",
    "df4.head()"
   ]
  },
  {
   "cell_type": "markdown",
   "id": "df35fd0d-513e-4e77-867e-429da10a9cc7",
   "metadata": {
    "id": "df35fd0d-513e-4e77-867e-429da10a9cc7"
   },
   "source": [
    "1. You work at the marketing department and you want to know which sales channel brought the most sales in terms of total revenue. Using pivot, create a summary table showing the total revenue for each sales channel (branch, call center, web, and mail).\n",
    "Round the total revenue to 2 decimal points.  Analyze the resulting table to draw insights."
   ]
  },
  {
   "cell_type": "markdown",
   "id": "640993b2-a291-436c-a34d-a551144f8196",
   "metadata": {
    "id": "640993b2-a291-436c-a34d-a551144f8196"
   },
   "source": [
    "2. Create a pivot table that shows the average customer lifetime value per gender and education level. Analyze the resulting table to draw insights."
   ]
  },
  {
   "cell_type": "code",
   "execution_count": 120,
   "id": "6f670224",
   "metadata": {},
   "outputs": [
    {
     "data": {
      "application/vnd.microsoft.datawrangler.viewer.v0+json": {
       "columns": [
        {
         "name": "index",
         "rawType": "object",
         "type": "string"
        },
        {
         "name": "0",
         "rawType": "int64",
         "type": "integer"
        }
       ],
       "ref": "2b80ac19-53a7-4bc7-a932-3b76fe0bb377",
       "rows": [
        [
         "unnamed:_0",
         "0"
        ],
        [
         "customer",
         "0"
        ],
        [
         "state",
         "0"
        ],
        [
         "customer_lifetime_value",
         "0"
        ],
        [
         "response",
         "0"
        ],
        [
         "coverage",
         "0"
        ],
        [
         "education",
         "0"
        ],
        [
         "effective_to_date",
         "0"
        ],
        [
         "employmentstatus",
         "0"
        ],
        [
         "gender",
         "0"
        ],
        [
         "income",
         "0"
        ],
        [
         "location_code",
         "0"
        ],
        [
         "marital_status",
         "0"
        ],
        [
         "monthly_premium_auto",
         "0"
        ],
        [
         "months_since_last_claim",
         "0"
        ],
        [
         "months_since_policy_inception",
         "0"
        ],
        [
         "number_of_open_complaints",
         "0"
        ],
        [
         "number_of_policies",
         "0"
        ],
        [
         "policy_type",
         "0"
        ],
        [
         "policy",
         "0"
        ],
        [
         "renew_offer_type",
         "0"
        ],
        [
         "sales_channel",
         "0"
        ],
        [
         "total_claim_amount",
         "0"
        ],
        [
         "vehicle_class",
         "0"
        ],
        [
         "vehicle_size",
         "0"
        ],
        [
         "vehicle_type",
         "0"
        ],
        [
         "month",
         "0"
        ]
       ],
       "shape": {
        "columns": 1,
        "rows": 27
       }
      },
      "text/plain": [
       "unnamed:_0                       0\n",
       "customer                         0\n",
       "state                            0\n",
       "customer_lifetime_value          0\n",
       "response                         0\n",
       "coverage                         0\n",
       "education                        0\n",
       "effective_to_date                0\n",
       "employmentstatus                 0\n",
       "gender                           0\n",
       "income                           0\n",
       "location_code                    0\n",
       "marital_status                   0\n",
       "monthly_premium_auto             0\n",
       "months_since_last_claim          0\n",
       "months_since_policy_inception    0\n",
       "number_of_open_complaints        0\n",
       "number_of_policies               0\n",
       "policy_type                      0\n",
       "policy                           0\n",
       "renew_offer_type                 0\n",
       "sales_channel                    0\n",
       "total_claim_amount               0\n",
       "vehicle_class                    0\n",
       "vehicle_size                     0\n",
       "vehicle_type                     0\n",
       "month                            0\n",
       "dtype: int64"
      ]
     },
     "execution_count": 120,
     "metadata": {},
     "output_type": "execute_result"
    }
   ],
   "source": [
    "df4.isna().sum()"
   ]
  },
  {
   "cell_type": "code",
   "execution_count": 121,
   "id": "442889a8",
   "metadata": {},
   "outputs": [
    {
     "name": "stderr",
     "output_type": "stream",
     "text": [
      "/var/folders/wc/048rx86x7bqbzmjn7nr46j_80000gn/T/ipykernel_12191/1049113952.py:19: FutureWarning: A value is trying to be set on a copy of a DataFrame or Series through chained assignment using an inplace method.\n",
      "The behavior will change in pandas 3.0. This inplace method will never work because the intermediate object on which we are setting values always behaves as a copy.\n",
      "\n",
      "For example, when doing 'df[col].method(value, inplace=True)', try using 'df.method({col: value}, inplace=True)' or df[col] = df[col].method(value) instead, to perform the operation inplace on the original object.\n",
      "\n",
      "\n",
      "  df4['education'].replace('College', 'Bachelor', inplace=True)\n"
     ]
    },
    {
     "data": {
      "application/vnd.microsoft.datawrangler.viewer.v0+json": {
       "columns": [
        {
         "name": "sales_channel",
         "rawType": "object",
         "type": "string"
        },
        {
         "name": "F",
         "rawType": "float64",
         "type": "float"
        },
        {
         "name": "M",
         "rawType": "float64",
         "type": "float"
        }
       ],
       "ref": "0c9576b6-3a12-4693-a3ba-129afa0989fc",
       "rows": [
        [
         "Agent",
         "100637.67",
         "98271.61"
        ],
        [
         "Branch",
         "78291.18",
         "66986.47"
        ],
        [
         "Call Center",
         "53025.28",
         "47894.25"
        ],
        [
         "Web",
         "43175.03",
         "34327.54"
        ]
       ],
       "shape": {
        "columns": 2,
        "rows": 4
       }
      },
      "text/html": [
       "<div>\n",
       "<style scoped>\n",
       "    .dataframe tbody tr th:only-of-type {\n",
       "        vertical-align: middle;\n",
       "    }\n",
       "\n",
       "    .dataframe tbody tr th {\n",
       "        vertical-align: top;\n",
       "    }\n",
       "\n",
       "    .dataframe thead th {\n",
       "        text-align: right;\n",
       "    }\n",
       "</style>\n",
       "<table border=\"1\" class=\"dataframe\">\n",
       "  <thead>\n",
       "    <tr style=\"text-align: right;\">\n",
       "      <th>gender</th>\n",
       "      <th>F</th>\n",
       "      <th>M</th>\n",
       "    </tr>\n",
       "    <tr>\n",
       "      <th>sales_channel</th>\n",
       "      <th></th>\n",
       "      <th></th>\n",
       "    </tr>\n",
       "  </thead>\n",
       "  <tbody>\n",
       "    <tr>\n",
       "      <th>Agent</th>\n",
       "      <td>100637.67</td>\n",
       "      <td>98271.61</td>\n",
       "    </tr>\n",
       "    <tr>\n",
       "      <th>Branch</th>\n",
       "      <td>78291.18</td>\n",
       "      <td>66986.47</td>\n",
       "    </tr>\n",
       "    <tr>\n",
       "      <th>Call Center</th>\n",
       "      <td>53025.28</td>\n",
       "      <td>47894.25</td>\n",
       "    </tr>\n",
       "    <tr>\n",
       "      <th>Web</th>\n",
       "      <td>43175.03</td>\n",
       "      <td>34327.54</td>\n",
       "    </tr>\n",
       "  </tbody>\n",
       "</table>\n",
       "</div>"
      ],
      "text/plain": [
       "gender                 F         M\n",
       "sales_channel                     \n",
       "Agent          100637.67  98271.61\n",
       "Branch          78291.18  66986.47\n",
       "Call Center     53025.28  47894.25\n",
       "Web             43175.03  34327.54"
      ]
     },
     "execution_count": 121,
     "metadata": {},
     "output_type": "execute_result"
    }
   ],
   "source": [
    "# Cleaning dataset for any claims that happened before policy inception\n",
    "def claim_vs_inception(row):\n",
    "    claim = row[\"months_since_last_claim\"]\n",
    "    inception = row[\"months_since_policy_inception\"]\n",
    "    if claim > inception:\n",
    "        return True\n",
    "    else:\n",
    "        return False\n",
    "\n",
    "# Apply the function to the dataframe   \n",
    "df4[\"claim_vs_inception\"] = df4.apply(claim_vs_inception, axis=1)\n",
    "df4[\"claim_vs_inception\"].value_counts()\n",
    "df4 = df4[df4[\"claim_vs_inception\"] != True]\n",
    "\n",
    "# Creating profit column\n",
    "df4[\"profit\"] = df4[\"monthly_premium_auto\"] - (df4[\"total_claim_amount\"] / 12)\n",
    "\n",
    "# Cleaning education column by renaming college to Bachelor\n",
    "df4['education'].replace('College', 'Bachelor', inplace=True)\n",
    "\n",
    "# Creating pivot table\n",
    "df4.pivot_table(index=['sales_channel'], columns=['gender'], values='profit', aggfunc='sum').round(2)"
   ]
  },
  {
   "cell_type": "code",
   "execution_count": 122,
   "id": "f08a6748",
   "metadata": {},
   "outputs": [],
   "source": [
    "# The highest profit was generated through agents for females. This was followed by males.\n",
    "# Branch sales channel generated the second highest profits, followed by call center and then web."
   ]
  },
  {
   "cell_type": "code",
   "execution_count": 123,
   "id": "23787954",
   "metadata": {},
   "outputs": [
    {
     "data": {
      "application/vnd.microsoft.datawrangler.viewer.v0+json": {
       "columns": [
        {
         "name": "education",
         "rawType": "object",
         "type": "string"
        },
        {
         "name": "F",
         "rawType": "float64",
         "type": "float"
        },
        {
         "name": "M",
         "rawType": "float64",
         "type": "float"
        }
       ],
       "ref": "641e7018-047d-4a4d-90dd-d455b3cad704",
       "rows": [
        [
         "Bachelor",
         "7881.68",
         "7853.43"
        ],
        [
         "Doctor",
         "7384.43",
         "7148.9"
        ],
        [
         "High School or Below",
         "8787.88",
         "8139.32"
        ],
        [
         "Master",
         "8031.68",
         "8321.64"
        ]
       ],
       "shape": {
        "columns": 2,
        "rows": 4
       }
      },
      "text/html": [
       "<div>\n",
       "<style scoped>\n",
       "    .dataframe tbody tr th:only-of-type {\n",
       "        vertical-align: middle;\n",
       "    }\n",
       "\n",
       "    .dataframe tbody tr th {\n",
       "        vertical-align: top;\n",
       "    }\n",
       "\n",
       "    .dataframe thead th {\n",
       "        text-align: right;\n",
       "    }\n",
       "</style>\n",
       "<table border=\"1\" class=\"dataframe\">\n",
       "  <thead>\n",
       "    <tr style=\"text-align: right;\">\n",
       "      <th>gender</th>\n",
       "      <th>F</th>\n",
       "      <th>M</th>\n",
       "    </tr>\n",
       "    <tr>\n",
       "      <th>education</th>\n",
       "      <th></th>\n",
       "      <th></th>\n",
       "    </tr>\n",
       "  </thead>\n",
       "  <tbody>\n",
       "    <tr>\n",
       "      <th>Bachelor</th>\n",
       "      <td>7881.68</td>\n",
       "      <td>7853.43</td>\n",
       "    </tr>\n",
       "    <tr>\n",
       "      <th>Doctor</th>\n",
       "      <td>7384.43</td>\n",
       "      <td>7148.90</td>\n",
       "    </tr>\n",
       "    <tr>\n",
       "      <th>High School or Below</th>\n",
       "      <td>8787.88</td>\n",
       "      <td>8139.32</td>\n",
       "    </tr>\n",
       "    <tr>\n",
       "      <th>Master</th>\n",
       "      <td>8031.68</td>\n",
       "      <td>8321.64</td>\n",
       "    </tr>\n",
       "  </tbody>\n",
       "</table>\n",
       "</div>"
      ],
      "text/plain": [
       "gender                      F        M\n",
       "education                             \n",
       "Bachelor              7881.68  7853.43\n",
       "Doctor                7384.43  7148.90\n",
       "High School or Below  8787.88  8139.32\n",
       "Master                8031.68  8321.64"
      ]
     },
     "execution_count": 123,
     "metadata": {},
     "output_type": "execute_result"
    }
   ],
   "source": [
    "df4.pivot_table(index=[\"education\"], columns=[\"gender\"], values=\"customer_lifetime_value\", aggfunc=\"mean\").round(2)"
   ]
  },
  {
   "cell_type": "code",
   "execution_count": 124,
   "id": "41e43231",
   "metadata": {},
   "outputs": [],
   "source": [
    "# Women with high school or below tend to have higher customer lifetime value than the rest of the segments.\n",
    "# Generally, customers with Master or high school and below have the lowest customer lifetime value, in comparison to Doctors and holders of Bachelor degrees."
   ]
  },
  {
   "cell_type": "markdown",
   "id": "32c7f2e5-3d90-43e5-be33-9781b6069198",
   "metadata": {
    "id": "32c7f2e5-3d90-43e5-be33-9781b6069198"
   },
   "source": [
    "## Bonus\n",
    "\n",
    "You work at the customer service department and you want to know which months had the highest number of complaints by policy type category. Create a summary table showing the number of complaints by policy type and month.\n",
    "Show it in a long format table."
   ]
  },
  {
   "cell_type": "markdown",
   "id": "e3d09a8f-953c-448a-a5f8-2e5a8cca7291",
   "metadata": {
    "id": "e3d09a8f-953c-448a-a5f8-2e5a8cca7291"
   },
   "source": [
    "*In data analysis, a long format table is a way of structuring data in which each observation or measurement is stored in a separate row of the table. The key characteristic of a long format table is that each column represents a single variable, and each row represents a single observation of that variable.*\n",
    "\n",
    "*More information about long and wide format tables here: https://www.statology.org/long-vs-wide-data/*"
   ]
  },
  {
   "cell_type": "code",
   "execution_count": 125,
   "id": "3a069e0b-b400-470e-904d-d17582191be4",
   "metadata": {
    "id": "3a069e0b-b400-470e-904d-d17582191be4"
   },
   "outputs": [],
   "source": [
    "# Your code goes here"
   ]
  }
 ],
 "metadata": {
  "colab": {
   "provenance": []
  },
  "kernelspec": {
   "display_name": "base",
   "language": "python",
   "name": "python3"
  },
  "language_info": {
   "codemirror_mode": {
    "name": "ipython",
    "version": 3
   },
   "file_extension": ".py",
   "mimetype": "text/x-python",
   "name": "python",
   "nbconvert_exporter": "python",
   "pygments_lexer": "ipython3",
   "version": "3.13.5"
  }
 },
 "nbformat": 4,
 "nbformat_minor": 5
}
